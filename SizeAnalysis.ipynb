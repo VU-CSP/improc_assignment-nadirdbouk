{
 "cells": [
  {
   "cell_type": "markdown",
   "id": "1b6950df",
   "metadata": {},
   "source": [
    "# Analysis of the particle sizes from segmentation output"
   ]
  },
  {
   "cell_type": "code",
   "execution_count": 1,
   "id": "504b18b4",
   "metadata": {},
   "outputs": [],
   "source": [
    "import pandas as pd\n",
    "import numpy as np\n",
    "import seaborn as sns"
   ]
  },
  {
   "cell_type": "code",
   "execution_count": 2,
   "id": "0293fd03",
   "metadata": {},
   "outputs": [
    {
     "name": "stdout",
     "output_type": "stream",
     "text": [
      "      Area  Mean  Min  Max\n",
      "0  1   443   255  255  255\n",
      "1  2   290   255  255  255\n",
      "2  3   361   255  255  255\n",
      "3  4   466   255  255  255\n",
      "4  5   306   255  255  255\n"
     ]
    }
   ],
   "source": [
    "# Code to read Results and show head\n",
    "measurements = pd.read_csv(\"Results.csv\")\n",
    "\n",
    "# Show the head of the DataFrame\n",
    "print(measurements.head())"
   ]
  },
  {
   "cell_type": "code",
   "execution_count": 8,
   "id": "709d2e89",
   "metadata": {},
   "outputs": [
    {
     "data": {
      "text/plain": [
       "<AxesSubplot:xlabel='Area', ylabel='Count'>"
      ]
     },
     "execution_count": 8,
     "metadata": {},
     "output_type": "execute_result"
    },
    {
     "data": {
      "image/png": "[encoded data removed]",
      "text/plain": [
       "<Figure size 640x480 with 1 Axes>"
      ]
     },
     "metadata": {},
     "output_type": "display_data"
    }
   ],
   "source": [
    "# Code to plot a histogram of the Area\n",
    "sns.histplot(data = measurements, x= \"Area\")"
   ]
  },
  {
   "cell_type": "code",
   "execution_count": 12,
   "id": "720a57ec",
   "metadata": {},
   "outputs": [
    {
     "name": "stdout",
     "output_type": "stream",
     "text": [
      "340.3189837685251\n",
      "71.29798620235633\n"
     ]
    }
   ],
   "source": [
    "# Calculate mean\n",
    "areaMean = np.mean(measurements[\"Area\"])\n",
    "areaSD = np.std(measurements[\"Area\"])\n",
    "\n",
    "print(areaMean)\n",
    "print(areaSD)"
   ]
  },
  {
   "cell_type": "markdown",
   "id": "fff91879",
   "metadata": {},
   "source": [
    "Describe your interpretation of the distribution of the measurements of nuclear area below.\n",
    "Based on what you see, would you choose different value ranges of particle sizes for counting? Explain why."
   ]
  },
  {
   "cell_type": "markdown",
   "id": "fedf4d85",
   "metadata": {},
   "source": [
    "I would choose a diferrent value of particle size for counting as my histogram is skewed left, meaning there were probably many\n",
    "nuclear segments unaccounted for."
   ]
  }
 ],
 "metadata": {
  "kernelspec": {
   "display_name": "Python 3 (ipykernel)",
   "language": "python",
   "name": "python3"
  },
  "language_info": {
   "codemirror_mode": {
    "name": "ipython",
    "version": 3
   },
   "file_extension": ".py",
   "mimetype": "text/x-python",
   "name": "python",
   "nbconvert_exporter": "python",
   "pygments_lexer": "ipython3",
   "version": "3.9.13"
  }
 },
 "nbformat": 4,
 "nbformat_minor": 5
}
